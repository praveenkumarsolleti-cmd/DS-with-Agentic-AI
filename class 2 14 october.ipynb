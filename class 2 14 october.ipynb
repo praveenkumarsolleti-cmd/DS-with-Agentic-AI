{
 "cells": [
  {
   "cell_type": "code",
   "execution_count": 3,
   "id": "6f01e94a-3407-4bc4-92b3-d9b645f2077e",
   "metadata": {},
   "outputs": [
    {
     "data": {
      "text/plain": [
       "'3.13.5 | packaged by Anaconda, Inc. | (main, Jun 12 2025, 16:37:03) [MSC v.1929 64 bit (AMD64)]'"
      ]
     },
     "execution_count": 3,
     "metadata": {},
     "output_type": "execute_result"
    }
   ],
   "source": [
    "import sys\n",
    "sys.version"
   ]
  },
  {
   "cell_type": "code",
   "execution_count": null,
   "id": "e1251389-ece2-4c9a-bbd2-20bec40b4a49",
   "metadata": {},
   "outputs": [],
   "source": [
    "every jupiter file saves in .ipynb\n"
   ]
  },
  {
   "cell_type": "markdown",
   "id": "a16f8b7a-96f6-44e1-b894-e49326b99f9a",
   "metadata": {},
   "source": [
    "# python variable identifier objects \n",
    "syntax (variable=value)\n",
    "a=5\n",
    "a is called variable which also called as identifier and objects\n",
    "5 called value and value called as int data type\n",
    "\n",
    "b=5.5\n",
    "b is variable and 5.5 is called as float data type\n",
    "\n",
    "# Rules to define python variable\n",
    "\n",
    "1. pyhon is case sensitive \n",
    "\n",
    "NameError                                 Traceback (most recent call last)\n",
    "Cell In[5], line 2\n",
    "      1 v=8\n",
    "----> 2 V\n",
    "\n",
    "NameError: name 'V' is not defined\n",
    "\n",
    "2. Special symbol is notallowed in the variable only \"_\" is allowed\n",
    "\n",
    "3.   Cell In[9], line 2\n",
    "    v@\n",
    "      ^\n",
    "SyntaxError: invalid syntax\n",
    "\n",
    "4. variables does not start with digit\n",
    "\n",
    "5. variable can end with digit\n",
    "\n",
    "\n",
    "# for import keywords.. 35 keywords \n",
    "\n",
    "import keyword\n",
    "keyword.kwlist\n",
    "\n",
    "\n",
    "\n"
   ]
  },
  {
   "cell_type": "code",
   "execution_count": 4,
   "id": "11bc1f05-8d8b-4ac0-b61c-4a9ff46e3fd7",
   "metadata": {},
   "outputs": [
    {
     "data": {
      "text/plain": [
       "10"
      ]
     },
     "execution_count": 4,
     "metadata": {},
     "output_type": "execute_result"
    }
   ],
   "source": [
    "v=10\n",
    "v"
   ]
  },
  {
   "cell_type": "code",
   "execution_count": 6,
   "id": "bd8cedc5-733d-4222-a64c-0c8a560b8974",
   "metadata": {},
   "outputs": [
    {
     "data": {
      "text/plain": [
       "8"
      ]
     },
     "execution_count": 6,
     "metadata": {},
     "output_type": "execute_result"
    }
   ],
   "source": [
    "v=8\n",
    "v"
   ]
  },
  {
   "cell_type": "code",
   "execution_count": 7,
   "id": "a9d56b01-7fb6-4b26-9da3-3af932c5b7ca",
   "metadata": {},
   "outputs": [
    {
     "data": {
      "text/plain": [
       "9"
      ]
     },
     "execution_count": 7,
     "metadata": {},
     "output_type": "execute_result"
    }
   ],
   "source": [
    "V=9\n",
    "V"
   ]
  },
  {
   "cell_type": "code",
   "execution_count": 8,
   "id": "f07c11da-5801-4aa4-a415-a71380af9f60",
   "metadata": {},
   "outputs": [
    {
     "data": {
      "text/plain": [
       "20"
      ]
     },
     "execution_count": 8,
     "metadata": {},
     "output_type": "execute_result"
    }
   ],
   "source": [
    "v_=20\n",
    "v_"
   ]
  },
  {
   "cell_type": "code",
   "execution_count": 9,
   "id": "ed3e13fc-070f-40a3-9480-f3b14fd9489c",
   "metadata": {},
   "outputs": [
    {
     "ename": "SyntaxError",
     "evalue": "invalid syntax (3863548924.py, line 2)",
     "output_type": "error",
     "traceback": [
      "\u001b[1;36m  Cell \u001b[1;32mIn[9], line 2\u001b[1;36m\u001b[0m\n\u001b[1;33m    v@\u001b[0m\n\u001b[1;37m      ^\u001b[0m\n\u001b[1;31mSyntaxError\u001b[0m\u001b[1;31m:\u001b[0m invalid syntax\n"
     ]
    }
   ],
   "source": [
    "v@=20\n",
    "v@"
   ]
  },
  {
   "cell_type": "code",
   "execution_count": 14,
   "id": "f4e6979f-7ea0-4c1e-945b-55aadbc6b73d",
   "metadata": {},
   "outputs": [
    {
     "ename": "SyntaxError",
     "evalue": "invalid decimal literal (1367996002.py, line 1)",
     "output_type": "error",
     "traceback": [
      "\u001b[1;36m  Cell \u001b[1;32mIn[14], line 1\u001b[1;36m\u001b[0m\n\u001b[1;33m    var1==8s\u001b[0m\n\u001b[1;37m          ^\u001b[0m\n\u001b[1;31mSyntaxError\u001b[0m\u001b[1;31m:\u001b[0m invalid decimal literal\n"
     ]
    }
   ],
   "source": [
    "var1==8s\n",
    "var1"
   ]
  },
  {
   "cell_type": "code",
   "execution_count": 11,
   "id": "df2b1c39-9b2d-45d6-a3d9-1198925ba9e2",
   "metadata": {},
   "outputs": [
    {
     "ename": "AttributeError",
     "evalue": "module 'sys' has no attribute 'var1'",
     "output_type": "error",
     "traceback": [
      "\u001b[1;31m---------------------------------------------------------------------------\u001b[0m",
      "\u001b[1;31mAttributeError\u001b[0m                            Traceback (most recent call last)",
      "Cell \u001b[1;32mIn[11], line 1\u001b[0m\n\u001b[1;32m----> 1\u001b[0m sys\u001b[38;5;241m.\u001b[39mvar1\n",
      "\u001b[1;31mAttributeError\u001b[0m: module 'sys' has no attribute 'var1'"
     ]
    }
   ],
   "source": [
    "sys.var1"
   ]
  },
  {
   "cell_type": "code",
   "execution_count": 12,
   "id": "a161ceae-9858-40e6-a334-2e99cdd27dc3",
   "metadata": {},
   "outputs": [
    {
     "data": {
      "text/plain": [
       "int"
      ]
     },
     "execution_count": 12,
     "metadata": {},
     "output_type": "execute_result"
    }
   ],
   "source": [
    "type(var1)"
   ]
  },
  {
   "cell_type": "code",
   "execution_count": 15,
   "id": "3aceb23a-5938-4d34-ae9f-313657d660ee",
   "metadata": {},
   "outputs": [
    {
     "data": {
      "text/plain": [
       "['False',\n",
       " 'None',\n",
       " 'True',\n",
       " 'and',\n",
       " 'as',\n",
       " 'assert',\n",
       " 'async',\n",
       " 'await',\n",
       " 'break',\n",
       " 'class',\n",
       " 'continue',\n",
       " 'def',\n",
       " 'del',\n",
       " 'elif',\n",
       " 'else',\n",
       " 'except',\n",
       " 'finally',\n",
       " 'for',\n",
       " 'from',\n",
       " 'global',\n",
       " 'if',\n",
       " 'import',\n",
       " 'in',\n",
       " 'is',\n",
       " 'lambda',\n",
       " 'nonlocal',\n",
       " 'not',\n",
       " 'or',\n",
       " 'pass',\n",
       " 'raise',\n",
       " 'return',\n",
       " 'try',\n",
       " 'while',\n",
       " 'with',\n",
       " 'yield']"
      ]
     },
     "execution_count": 15,
     "metadata": {},
     "output_type": "execute_result"
    }
   ],
   "source": [
    "import keyword\n",
    "keyword.kwlist"
   ]
  },
  {
   "cell_type": "code",
   "execution_count": 16,
   "id": "f6de5580-99ae-468d-84ce-2c5c4a284dd2",
   "metadata": {},
   "outputs": [
    {
     "data": {
      "text/plain": [
       "35"
      ]
     },
     "execution_count": 16,
     "metadata": {},
     "output_type": "execute_result"
    }
   ],
   "source": [
    "len(keyword.kwlist)\n"
   ]
  },
  {
   "cell_type": "code",
   "execution_count": 18,
   "id": "525b1824-ac00-495a-9e6d-8047c985c22a",
   "metadata": {},
   "outputs": [
    {
     "name": "stdout",
     "output_type": "stream",
     "text": [
      "25 35 45\n"
     ]
    }
   ],
   "source": [
    "age=25;\n",
    "price=45;\n",
    "icecream=35;\n",
    "print(age,icecream,price)\n"
   ]
  },
  {
   "cell_type": "code",
   "execution_count": 19,
   "id": "32a69219-b364-429d-9f3c-80eb549aa134",
   "metadata": {},
   "outputs": [
    {
     "ename": "NameError",
     "evalue": "name 'solleti' is not defined",
     "output_type": "error",
     "traceback": [
      "\u001b[1;31m---------------------------------------------------------------------------\u001b[0m",
      "\u001b[1;31mNameError\u001b[0m                                 Traceback (most recent call last)",
      "Cell \u001b[1;32mIn[19], line 1\u001b[0m\n\u001b[1;32m----> 1\u001b[0m sirname\u001b[38;5;241m=\u001b[39msolleti\n\u001b[0;32m      2\u001b[0m name\u001b[38;5;241m=\u001b[39mpraveen\n\u001b[0;32m      3\u001b[0m fullname\u001b[38;5;241m=\u001b[39msirname\u001b[38;5;241m+\u001b[39m\u001b[38;5;124m\"\u001b[39m\u001b[38;5;124m \u001b[39m\u001b[38;5;124m\"\u001b[39m\u001b[38;5;241m+\u001b[39mname\n",
      "\u001b[1;31mNameError\u001b[0m: name 'solleti' is not defined"
     ]
    }
   ],
   "source": [
    "sirname=solleti\n",
    "name=praveen\n",
    "fullname=sirname+\" \"+name\n",
    "print(fullname)"
   ]
  },
  {
   "cell_type": "code",
   "execution_count": null,
   "id": "0deceaa1-3a5c-478e-9ceb-4e5a8a4a41d6",
   "metadata": {},
   "outputs": [],
   "source": []
  }
 ],
 "metadata": {
  "kernelspec": {
   "display_name": "Python 3 (ipykernel)",
   "language": "python",
   "name": "python3"
  },
  "language_info": {
   "codemirror_mode": {
    "name": "ipython",
    "version": 3
   },
   "file_extension": ".py",
   "mimetype": "text/x-python",
   "name": "python",
   "nbconvert_exporter": "python",
   "pygments_lexer": "ipython3",
   "version": "3.13.5"
  }
 },
 "nbformat": 4,
 "nbformat_minor": 5
}
