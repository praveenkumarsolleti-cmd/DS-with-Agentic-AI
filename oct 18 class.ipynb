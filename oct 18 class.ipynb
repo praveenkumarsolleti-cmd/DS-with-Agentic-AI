{
 "cells": [
  {
   "cell_type": "code",
   "execution_count": 24,
   "id": "c4e5b3a6-d11c-4f8a-9d55-d0362a96039a",
   "metadata": {},
   "outputs": [
    {
     "name": "stdout",
     "output_type": "stream",
     "text": [
      "1141.25\n"
     ]
    }
   ],
   "source": [
    "amount=1000\n",
    "tax1=12.5/100\n",
    "tax2=13/100\n",
    "total= amount+((amount*(tax1))+(amount*(tax1))*tax2)\n",
    "print(total)"
   ]
  },
  {
   "cell_type": "code",
   "execution_count": 38,
   "id": "d9f22fca-6c4c-470f-b64f-896deefa4516",
   "metadata": {},
   "outputs": [
    {
     "name": "stdout",
     "output_type": "stream",
     "text": [
      "Solleti Sai Preyanshi solleti Sai Bhavyanshi\n"
     ]
    }
   ],
   "source": [
    "surname = 'Solleti'\n",
    "name = 'Sai Preyanshi solleti Sai Bhavyanshi'\n",
    "fullname = surname +\" \"+ name\n",
    "print(fullname)"
   ]
  },
  {
   "cell_type": "code",
   "execution_count": 43,
   "id": "48b67985-9661-48cc-8eb7-11ccf369cbc2",
   "metadata": {},
   "outputs": [
    {
     "ename": "SyntaxError",
     "evalue": "expression cannot contain assignment, perhaps you meant \"==\"? (2804372177.py, line 6)",
     "output_type": "error",
     "traceback": [
      "\u001b[1;36m  Cell \u001b[1;32mIn[43], line 6\u001b[1;36m\u001b[0m\n\u001b[1;33m    print(\"total bill\" = total)\u001b[0m\n\u001b[1;37m          ^\u001b[0m\n\u001b[1;31mSyntaxError\u001b[0m\u001b[1;31m:\u001b[0m expression cannot contain assignment, perhaps you meant \"==\"?\n"
     ]
    }
   ],
   "source": [
    "idli=60\n",
    "dosa=30\n",
    "poori=80\n",
    "print (\"Customer Name :Sai Preyanshi\\nsai bhavyanshi\")\n",
    "total=2*idli+2*dosa+2*poori\n",
    "print(\"total bill\" = total)"
   ]
  },
  {
   "cell_type": "code",
   "execution_count": 50,
   "id": "e467e9f3-a35f-4891-8e30-a1023501837b",
   "metadata": {},
   "outputs": [
    {
     "ename": "SyntaxError",
     "evalue": "invalid syntax. Perhaps you forgot a comma? (2288396764.py, line 2)",
     "output_type": "error",
     "traceback": [
      "\u001b[1;36m  Cell \u001b[1;32mIn[50], line 2\u001b[1;36m\u001b[0m\n\u001b[1;33m    print(intvar/n floatvar,strvar)\u001b[0m\n\u001b[1;37m          ^\u001b[0m\n\u001b[1;31mSyntaxError\u001b[0m\u001b[1;31m:\u001b[0m invalid syntax. Perhaps you forgot a comma?\n"
     ]
    }
   ],
   "source": [
    "intvar , floatvar , strvar = 10,2.57,\"Python Language\" # Using commas to separat\n",
    "print(intvar/n floatvar,strvar)\n"
   ]
  },
  {
   "cell_type": "markdown",
   "id": "aea2e388-216f-4b09-8e6d-8d8e6de617ff",
   "metadata": {},
   "source": [
    "\n",
    "# python Basic Operators\n",
    "\n",
    "Arithmetic Operators ----- + - * / // % **\n",
    "Assignment operatos ------ = ,+=,-=,/=\n",
    "relational operators - True  Flase\n",
    "logical operators - And ,or ,not\n",
    "Unary Operators -(Minus)\n",
    "\n",
    "\n"
   ]
  },
  {
   "cell_type": "markdown",
   "id": "0c79b4e4-42bf-4e76-91fc-fe9289c0e2eb",
   "metadata": {},
   "source": [
    "# Arithmetic Operators\n",
    "\n",
    "a , b = 15 , 10\n",
    "a+b\n",
    "\n",
    "= is operator\n",
    "a,b are Operands"
   ]
  },
  {
   "cell_type": "code",
   "execution_count": 51,
   "id": "b64d9f5a-5cd1-4f7f-ac32-d29748c2742a",
   "metadata": {},
   "outputs": [
    {
     "data": {
      "text/plain": [
       "25"
      ]
     },
     "execution_count": 51,
     "metadata": {},
     "output_type": "execute_result"
    }
   ],
   "source": [
    "a , b = 15 , 10 \n",
    "a+b"
   ]
  },
  {
   "cell_type": "code",
   "execution_count": 56,
   "id": "c6a40104-2c9a-425f-b3e4-816852d92d4b",
   "metadata": {},
   "outputs": [
    {
     "data": {
      "text/plain": [
       "6"
      ]
     },
     "execution_count": 56,
     "metadata": {},
     "output_type": "execute_result"
    }
   ],
   "source": [
    "a=b=6\n",
    "b"
   ]
  },
  {
   "cell_type": "code",
   "execution_count": 58,
   "id": "63e36dfd-cf7e-4ef3-8b9a-6faf36d462b9",
   "metadata": {},
   "outputs": [
    {
     "data": {
      "text/plain": [
       "1"
      ]
     },
     "execution_count": 58,
     "metadata": {},
     "output_type": "execute_result"
    }
   ],
   "source": [
    "b//=4\n",
    "b"
   ]
  },
  {
   "cell_type": "code",
   "execution_count": 59,
   "id": "57aee31a-5f8e-4cc9-8f56-968bcb7ef7f8",
   "metadata": {},
   "outputs": [
    {
     "data": {
      "text/plain": [
       "1"
      ]
     },
     "execution_count": 59,
     "metadata": {},
     "output_type": "execute_result"
    }
   ],
   "source": [
    "b**4\n",
    "b"
   ]
  },
  {
   "cell_type": "code",
   "execution_count": 60,
   "id": "73e0e7d6-28ce-4227-9946-067fe165e59f",
   "metadata": {},
   "outputs": [
    {
     "data": {
      "text/plain": [
       "6"
      ]
     },
     "execution_count": 60,
     "metadata": {},
     "output_type": "execute_result"
    }
   ],
   "source": [
    "a**4\n",
    "a"
   ]
  },
  {
   "cell_type": "code",
   "execution_count": 61,
   "id": "982c0213-8bb2-41be-b606-424c20440f8a",
   "metadata": {},
   "outputs": [
    {
     "data": {
      "text/plain": [
       "1296"
      ]
     },
     "execution_count": 61,
     "metadata": {},
     "output_type": "execute_result"
    }
   ],
   "source": [
    "6**4"
   ]
  },
  {
   "cell_type": "code",
   "execution_count": 64,
   "id": "402d521e-0f6b-481a-951a-955582c4843d",
   "metadata": {},
   "outputs": [
    {
     "data": {
      "text/plain": [
       "1"
      ]
     },
     "execution_count": 64,
     "metadata": {},
     "output_type": "execute_result"
    }
   ],
   "source": [
    "a//=2\n",
    "a"
   ]
  },
  {
   "cell_type": "code",
   "execution_count": 68,
   "id": "ee006428-1b4b-4996-9d4d-093fabfc8817",
   "metadata": {},
   "outputs": [],
   "source": [
    "a=5\n"
   ]
  },
  {
   "cell_type": "code",
   "execution_count": null,
   "id": "e24a3858-991f-47e7-95a2-0472896a31de",
   "metadata": {},
   "outputs": [],
   "source": [
    "b=6\n"
   ]
  },
  {
   "cell_type": "code",
   "execution_count": 69,
   "id": "54db9056-95a9-44b2-a894-98b219baa5a9",
   "metadata": {},
   "outputs": [
    {
     "data": {
      "text/plain": [
       "False"
      ]
     },
     "execution_count": 69,
     "metadata": {},
     "output_type": "execute_result"
    }
   ],
   "source": [
    "a<b"
   ]
  },
  {
   "cell_type": "code",
   "execution_count": 71,
   "id": "fd668566-1088-451f-9f0e-d2231d1834ac",
   "metadata": {},
   "outputs": [
    {
     "data": {
      "text/plain": [
       "False"
      ]
     },
     "execution_count": 71,
     "metadata": {},
     "output_type": "execute_result"
    }
   ],
   "source": [
    "a!=b"
   ]
  },
  {
   "cell_type": "code",
   "execution_count": 73,
   "id": "9ca93771-56b8-4517-a679-91b3e385954d",
   "metadata": {},
   "outputs": [
    {
     "data": {
      "text/plain": [
       "True"
      ]
     },
     "execution_count": 73,
     "metadata": {},
     "output_type": "execute_result"
    }
   ],
   "source": [
    "a == b"
   ]
  },
  {
   "cell_type": "code",
   "execution_count": 76,
   "id": "26a28f35-0be6-4ab7-82f9-39a0aa42944e",
   "metadata": {},
   "outputs": [],
   "source": [
    "a = b"
   ]
  },
  {
   "cell_type": "code",
   "execution_count": 78,
   "id": "464df6c2-2375-4f4d-9c1c-6742eb28a951",
   "metadata": {},
   "outputs": [
    {
     "data": {
      "text/plain": [
       "False"
      ]
     },
     "execution_count": 78,
     "metadata": {},
     "output_type": "execute_result"
    }
   ],
   "source": [
    "a=5\n",
    "b=4\n",
    "a<8 and b>5"
   ]
  },
  {
   "cell_type": "markdown",
   "id": "7dcbe2b0-fdfe-462f-b6d7-48439318ca07",
   "metadata": {},
   "source": [
    "# python bitwiseOperators\n",
    "\n",
    "COMPLEMENT OPERATOR (~) - it stores negative values\n",
    "AND OPERATOR (&)\n",
    "OR OPERATOR\n",
    "XOR(EXCLUSIVE OPERATOR)\n",
    "LEFT SHIFT OPERATOR\n",
    "RIGHT SHIFT OPERATOR"
   ]
  },
  {
   "cell_type": "code",
   "execution_count": 79,
   "id": "025a3d22-eb33-4a07-beaf-2d2e1e52935c",
   "metadata": {},
   "outputs": [
    {
     "data": {
      "text/plain": [
       "-13"
      ]
     },
     "execution_count": 79,
     "metadata": {},
     "output_type": "execute_result"
    }
   ],
   "source": [
    "~12"
   ]
  },
  {
   "cell_type": "code",
   "execution_count": 80,
   "id": "d7860b7c-51db-4cf2-9b24-151deae4d012",
   "metadata": {},
   "outputs": [
    {
     "ename": "SyntaxError",
     "evalue": "invalid syntax (2577966392.py, line 1)",
     "output_type": "error",
     "traceback": [
      "\u001b[1;36m  Cell \u001b[1;32mIn[80], line 1\u001b[1;36m\u001b[0m\n\u001b[1;33m    ~12~13\u001b[0m\n\u001b[1;37m       ^\u001b[0m\n\u001b[1;31mSyntaxError\u001b[0m\u001b[1;31m:\u001b[0m invalid syntax\n"
     ]
    }
   ],
   "source": [
    "~12~13"
   ]
  },
  {
   "cell_type": "code",
   "execution_count": 81,
   "id": "25947f13-8d2a-45d9-8832-9cb8e0ec4246",
   "metadata": {},
   "outputs": [
    {
     "data": {
      "text/plain": [
       "12"
      ]
     },
     "execution_count": 81,
     "metadata": {},
     "output_type": "execute_result"
    }
   ],
   "source": [
    "12 & 13"
   ]
  },
  {
   "cell_type": "markdown",
   "id": "6da5f615-6278-408c-b213-ec64848e3543",
   "metadata": {},
   "source": [
    "# Python umber system\n",
    "1. binary number system(0b) - base 2(0 and1)\n",
    "2.octal number system(0o)-base 8(0,1,2,3,4,5,6,7)\n",
    "3.decimal number system(0x) - base10(0,1,2,3,4,5,6,7,8,9)\n",
    "4.hexa decimal number system(0xa,0xb,0xc,0xd,0xe,0xf)base16(0,1,2,3,4,5,6,7,8,9,a,b,c,d,e,f)\n",
    "a-10\n",
    "b-11\n",
    "c-12\n",
    "d-13\n",
    "e-14\n",
    "f-15"
   ]
  },
  {
   "cell_type": "code",
   "execution_count": 82,
   "id": "fb06a0d2-b736-415a-bbad-cf66f3025591",
   "metadata": {},
   "outputs": [
    {
     "data": {
      "text/plain": [
       "25"
      ]
     },
     "execution_count": 82,
     "metadata": {},
     "output_type": "execute_result"
    }
   ],
   "source": [
    "25"
   ]
  },
  {
   "cell_type": "code",
   "execution_count": 83,
   "id": "5a62da02-1cff-43f3-a301-1d56c5b4096b",
   "metadata": {},
   "outputs": [
    {
     "data": {
      "text/plain": [
       "'0b11001'"
      ]
     },
     "execution_count": 83,
     "metadata": {},
     "output_type": "execute_result"
    }
   ],
   "source": [
    "bin(25)"
   ]
  },
  {
   "cell_type": "code",
   "execution_count": 84,
   "id": "7bac2e17-fea5-4337-9f47-494e582d5bdd",
   "metadata": {},
   "outputs": [
    {
     "data": {
      "text/plain": [
       "'0b100101'"
      ]
     },
     "execution_count": 84,
     "metadata": {},
     "output_type": "execute_result"
    }
   ],
   "source": [
    "bin(37)"
   ]
  },
  {
   "cell_type": "code",
   "execution_count": null,
   "id": "878cf6dd-b844-4c69-90c4-c0315f45c158",
   "metadata": {},
   "outputs": [],
   "source": []
  }
 ],
 "metadata": {
  "kernelspec": {
   "display_name": "Python 3 (ipykernel)",
   "language": "python",
   "name": "python3"
  },
  "language_info": {
   "codemirror_mode": {
    "name": "ipython",
    "version": 3
   },
   "file_extension": ".py",
   "mimetype": "text/x-python",
   "name": "python",
   "nbconvert_exporter": "python",
   "pygments_lexer": "ipython3",
   "version": "3.13.5"
  }
 },
 "nbformat": 4,
 "nbformat_minor": 5
}
