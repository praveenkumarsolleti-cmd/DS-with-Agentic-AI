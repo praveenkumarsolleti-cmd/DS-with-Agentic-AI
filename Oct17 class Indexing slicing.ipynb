{
 "cells": [
  {
   "cell_type": "markdown",
   "id": "32b7cf2b-3824-4309-bc63-ea2af2b2423c",
   "metadata": {},
   "source": [
    "# Indexing\n",
    "forward indexing\n",
    "back ward indexing\n",
    "Step index\n"
   ]
  },
  {
   "cell_type": "code",
   "execution_count": 24,
   "id": "64957c7e-02cc-484d-89c6-6c67ae7aa39e",
   "metadata": {},
   "outputs": [
    {
     "name": "stdout",
     "output_type": "stream",
     "text": [
      "6\n",
      "nohtyp\n"
     ]
    }
   ],
   "source": [
    "word='python'\n",
    "print(len(word))\n",
    "print(word[::-1])\n"
   ]
  },
  {
   "cell_type": "code",
   "execution_count": 2,
   "id": "816dcef0-e4b0-46c0-b64c-05085286cfbc",
   "metadata": {},
   "outputs": [
    {
     "data": {
      "text/plain": [
       "7"
      ]
     },
     "execution_count": 2,
     "metadata": {},
     "output_type": "execute_result"
    }
   ],
   "source": [
    "1+len(word)"
   ]
  },
  {
   "cell_type": "code",
   "execution_count": 3,
   "id": "f38d99c0-d75e-435c-a3a4-68670b0bd0e2",
   "metadata": {},
   "outputs": [
    {
     "name": "stdout",
     "output_type": "stream",
     "text": [
      "p\n"
     ]
    }
   ],
   "source": [
    "print(word[0])"
   ]
  },
  {
   "cell_type": "code",
   "execution_count": 4,
   "id": "b8fea481-2259-4f7e-ac7a-36cdd5363b96",
   "metadata": {},
   "outputs": [
    {
     "name": "stdout",
     "output_type": "stream",
     "text": [
      "n\n"
     ]
    }
   ],
   "source": [
    "print(word[5])"
   ]
  },
  {
   "cell_type": "code",
   "execution_count": 6,
   "id": "f54ac5eb-39ea-4693-a1c6-57a83d7380fa",
   "metadata": {},
   "outputs": [
    {
     "name": "stdout",
     "output_type": "stream",
     "text": [
      "h\n"
     ]
    }
   ],
   "source": [
    "print(word[3])"
   ]
  },
  {
   "cell_type": "code",
   "execution_count": 7,
   "id": "da94db7c-f223-4352-bd3c-44c7b16e57e4",
   "metadata": {},
   "outputs": [
    {
     "name": "stdout",
     "output_type": "stream",
     "text": [
      "pyt\n"
     ]
    }
   ],
   "source": [
    "print(word[0:3])"
   ]
  },
  {
   "cell_type": "code",
   "execution_count": 12,
   "id": "1673c1ec-df20-438f-923f-b49daa1cfd70",
   "metadata": {},
   "outputs": [
    {
     "name": "stdout",
     "output_type": "stream",
     "text": [
      "p\n"
     ]
    }
   ],
   "source": [
    "print(word[0:3:5])"
   ]
  },
  {
   "cell_type": "code",
   "execution_count": 14,
   "id": "a7026f10-d0de-4ba9-bdbc-a835b3e97e07",
   "metadata": {},
   "outputs": [
    {
     "name": "stdout",
     "output_type": "stream",
     "text": [
      "p\n"
     ]
    }
   ],
   "source": [
    "xto=word[0:3:5]\n",
    "print(xto)"
   ]
  },
  {
   "cell_type": "markdown",
   "id": "9da429f5-ef88-4b8e-9699-fc080eb13cdb",
   "metadata": {},
   "source": [
    "# data type: user can define only one value\n",
    "a=8\n",
    "# data structure : user can define more than one value'\n",
    "a=8,9,10\n",
    "# table: panda : 1 dimension;2 dimension....\n",
    "# array : rows and columns \n"
   ]
  },
  {
   "cell_type": "code",
   "execution_count": 15,
   "id": "8e759807-576c-4a07-a2ff-7496f0e1667f",
   "metadata": {},
   "outputs": [
    {
     "data": {
      "text/plain": [
       "1.0"
      ]
     },
     "execution_count": 15,
     "metadata": {},
     "output_type": "execute_result"
    }
   ],
   "source": [
    "f=1e0\n",
    "f"
   ]
  },
  {
   "cell_type": "code",
   "execution_count": 16,
   "id": "d691167b-d7a2-4c40-8bdb-6f492429b721",
   "metadata": {},
   "outputs": [
    {
     "data": {
      "text/plain": [
       "240.0"
      ]
     },
     "execution_count": 16,
     "metadata": {},
     "output_type": "execute_result"
    }
   ],
   "source": [
    "f2=2.4e2\n",
    "f2"
   ]
  },
  {
   "cell_type": "markdown",
   "id": "1c0b5dab-ba34-4e87-9e1e-773076ceeb29",
   "metadata": {},
   "source": [
    "# e -exponential "
   ]
  },
  {
   "cell_type": "code",
   "execution_count": 17,
   "id": "623df3cd-cffd-4724-a681-e17b180c206a",
   "metadata": {},
   "outputs": [
    {
     "data": {
      "text/plain": [
       "2099624381872"
      ]
     },
     "execution_count": 17,
     "metadata": {},
     "output_type": "execute_result"
    }
   ],
   "source": [
    "id(f2)"
   ]
  },
  {
   "cell_type": "code",
   "execution_count": 19,
   "id": "e6c4843e-e44c-4b50-9c22-5c5eac8a83bd",
   "metadata": {},
   "outputs": [
    {
     "name": "stdout",
     "output_type": "stream",
     "text": [
      "140726742595080\n"
     ]
    }
   ],
   "source": [
    "p=20\n",
    "q=21\n",
    "r=22\n",
    "print(id(p))"
   ]
  },
  {
   "cell_type": "code",
   "execution_count": 20,
   "id": "d852694f-03ff-4980-9893-55683ba8ad6e",
   "metadata": {},
   "outputs": [
    {
     "name": "stdout",
     "output_type": "stream",
     "text": [
      "140726742595112\n"
     ]
    }
   ],
   "source": [
    "print(id(q))"
   ]
  },
  {
   "cell_type": "code",
   "execution_count": 22,
   "id": "cdb7f2d4-d78d-4622-869f-1a6e35050322",
   "metadata": {},
   "outputs": [
    {
     "data": {
      "text/plain": [
       "140726742595080"
      ]
     },
     "execution_count": 22,
     "metadata": {},
     "output_type": "execute_result"
    }
   ],
   "source": [
    "s=20\n",
    "id(s)"
   ]
  },
  {
   "cell_type": "markdown",
   "id": "6ce4075d-5e1c-463c-8a7a-27c4ba536540",
   "metadata": {},
   "source": [
    "# Slicing\n",
    "Forward slicing\n",
    "back word slicing\n",
    "step Slicing\n",
    ": is slicing symbol"
   ]
  },
  {
   "cell_type": "code",
   "execution_count": 28,
   "id": "84ff760e-9cf9-433f-9816-5b863accb357",
   "metadata": {},
   "outputs": [
    {
     "name": "stdout",
     "output_type": "stream",
     "text": [
      "yt\n"
     ]
    }
   ],
   "source": [
    "x='python'\n",
    "print(x[1:3])"
   ]
  },
  {
   "cell_type": "code",
   "execution_count": 27,
   "id": "b770b621-4cd1-41ca-baf7-ef919c1ab3b4",
   "metadata": {},
   "outputs": [
    {
     "data": {
      "text/plain": [
       "'yt'"
      ]
     },
     "execution_count": 27,
     "metadata": {},
     "output_type": "execute_result"
    }
   ],
   "source": [
    "x[1:3]"
   ]
  },
  {
   "cell_type": "code",
   "execution_count": 31,
   "id": "ed344c4d-dd39-4d82-9366-4465b89e4293",
   "metadata": {},
   "outputs": [
    {
     "data": {
      "text/plain": [
       "'python'"
      ]
     },
     "execution_count": 31,
     "metadata": {},
     "output_type": "execute_result"
    }
   ],
   "source": [
    "x[0:6:1]"
   ]
  },
  {
   "cell_type": "code",
   "execution_count": 35,
   "id": "fd75401c-b5bb-462a-a0f1-a8f58dd2515c",
   "metadata": {},
   "outputs": [
    {
     "name": "stdout",
     "output_type": "stream",
     "text": [
      "hly\n"
     ]
    }
   ],
   "source": [
    "x='hellopython'\n",
    "print(x[0:8:3])"
   ]
  },
  {
   "cell_type": "code",
   "execution_count": 36,
   "id": "c8fac760-c3de-440b-911b-a37a8f29692e",
   "metadata": {},
   "outputs": [
    {
     "data": {
      "text/plain": [
       "'elpt'"
      ]
     },
     "execution_count": 36,
     "metadata": {},
     "output_type": "execute_result"
    }
   ],
   "source": [
    "x[1:8:2]"
   ]
  },
  {
   "cell_type": "code",
   "execution_count": 37,
   "id": "fe51ba20-23c1-425c-8d91-0f79c506eeba",
   "metadata": {},
   "outputs": [
    {
     "data": {
      "text/plain": [
       "'hellopython'"
      ]
     },
     "execution_count": 37,
     "metadata": {},
     "output_type": "execute_result"
    }
   ],
   "source": [
    "x[::1]"
   ]
  },
  {
   "cell_type": "code",
   "execution_count": 38,
   "id": "6c07e529-c26e-4f8e-848b-21736dccfc08",
   "metadata": {},
   "outputs": [
    {
     "data": {
      "text/plain": [
       "'hloyhn'"
      ]
     },
     "execution_count": 38,
     "metadata": {},
     "output_type": "execute_result"
    }
   ],
   "source": [
    "x[::2]"
   ]
  },
  {
   "cell_type": "code",
   "execution_count": 41,
   "id": "2ece79ef-9a2e-40aa-8ca3-9ed2ac65c965",
   "metadata": {},
   "outputs": [
    {
     "data": {
      "text/plain": [
       "'ntoe'"
      ]
     },
     "execution_count": 41,
     "metadata": {},
     "output_type": "execute_result"
    }
   ],
   "source": [
    "x[::-3]\n"
   ]
  },
  {
   "cell_type": "code",
   "execution_count": null,
   "id": "d5f52220-9c9b-42ca-958c-9fe02398d15a",
   "metadata": {},
   "outputs": [],
   "source": []
  }
 ],
 "metadata": {
  "kernelspec": {
   "display_name": "Python 3 (ipykernel)",
   "language": "python",
   "name": "python3"
  },
  "language_info": {
   "codemirror_mode": {
    "name": "ipython",
    "version": 3
   },
   "file_extension": ".py",
   "mimetype": "text/x-python",
   "name": "python",
   "nbconvert_exporter": "python",
   "pygments_lexer": "ipython3",
   "version": "3.13.5"
  }
 },
 "nbformat": 4,
 "nbformat_minor": 5
}
