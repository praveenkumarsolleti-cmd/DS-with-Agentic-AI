{
 "cells": [
  {
   "cell_type": "markdown",
   "id": "a3e228d2-ae61-4762-aa23-0511032dbfcb",
   "metadata": {},
   "source": [
    "# Important Data types\n",
    "\n",
    "Int\n",
    "float\n",
    "string\n",
    "boolean\n",
    "complex"
   ]
  },
  {
   "cell_type": "code",
   "execution_count": null,
   "id": "d8346162-e8fe-4868-9ba3-23a23f9075ec",
   "metadata": {},
   "outputs": [],
   "source": [
    "Function always ends with ()\n",
    "family()---->no arguments\n",
    "family1(d,m)---->have 2 arguments\n",
    "family2(d,m,d1,d2)--->have 4 arguments"
   ]
  },
  {
   "cell_type": "code",
   "execution_count": 5,
   "id": "5d5ab09f-bf76-4c87-b1b5-3983633fd535",
   "metadata": {},
   "outputs": [
    {
     "ename": "TypeError",
     "evalue": "type.__new__() argument 1 must be str, not int",
     "output_type": "error",
     "traceback": [
      "\u001b[1;31m---------------------------------------------------------------------------\u001b[0m",
      "\u001b[1;31mTypeError\u001b[0m                                 Traceback (most recent call last)",
      "Cell \u001b[1;32mIn[5], line 4\u001b[0m\n\u001b[0;32m      2\u001b[0m f\u001b[38;5;241m=\u001b[39m\u001b[38;5;241m5.5\u001b[39m;\n\u001b[0;32m      3\u001b[0m b\u001b[38;5;241m=\u001b[39m\u001b[38;5;241m0.01\u001b[39m;\n\u001b[1;32m----> 4\u001b[0m \u001b[38;5;28mtype\u001b[39m(i, s, b)\n",
      "\u001b[1;31mTypeError\u001b[0m: type.__new__() argument 1 must be str, not int"
     ]
    }
   ],
   "source": [
    "i=5;\n",
    "f=5.5;\n",
    "b=0.01;\n",
    "type(i, s, b)"
   ]
  },
  {
   "cell_type": "markdown",
   "id": "3b1d552d-6d8d-4151-a078-0949e1c7de40",
   "metadata": {},
   "source": [
    "# python operators\n",
    "+ - * "
   ]
  },
  {
   "cell_type": "code",
   "execution_count": 6,
   "id": "cb6738a1-7683-461a-bbdc-072331519e60",
   "metadata": {},
   "outputs": [
    {
     "name": "stdout",
     "output_type": "stream",
     "text": [
      "5\n"
     ]
    }
   ],
   "source": [
    "i=5\n",
    "print(i)"
   ]
  },
  {
   "cell_type": "code",
   "execution_count": 7,
   "id": "3c09fb76-5305-41ef-9e83-1d49c3ce7d47",
   "metadata": {},
   "outputs": [
    {
     "name": "stdout",
     "output_type": "stream",
     "text": [
      "105.5\n"
     ]
    }
   ],
   "source": [
    "f=105.5\n",
    "print(f)"
   ]
  },
  {
   "cell_type": "code",
   "execution_count": 8,
   "id": "e92a5514-d388-4a48-97b2-41881beaf0f2",
   "metadata": {},
   "outputs": [
    {
     "data": {
      "text/plain": [
       "527.5"
      ]
     },
     "execution_count": 8,
     "metadata": {},
     "output_type": "execute_result"
    }
   ],
   "source": [
    "i*f"
   ]
  },
  {
   "cell_type": "markdown",
   "id": "755ec384-a146-4b5b-97b6-91480994612c",
   "metadata": {},
   "source": [
    "# Boolean"
   ]
  },
  {
   "cell_type": "code",
   "execution_count": 9,
   "id": "6ac38a5c-d793-4af5-b5e5-0a3a800dfb75",
   "metadata": {},
   "outputs": [
    {
     "data": {
      "text/plain": [
       "1"
      ]
     },
     "execution_count": 9,
     "metadata": {},
     "output_type": "execute_result"
    }
   ],
   "source": [
    "True + False"
   ]
  },
  {
   "cell_type": "code",
   "execution_count": 10,
   "id": "cf7ea8d7-5fe8-4631-a55f-f23cbeb82784",
   "metadata": {},
   "outputs": [
    {
     "data": {
      "text/plain": [
       "0"
      ]
     },
     "execution_count": 10,
     "metadata": {},
     "output_type": "execute_result"
    }
   ],
   "source": [
    "True * False\n"
   ]
  },
  {
   "cell_type": "code",
   "execution_count": 11,
   "id": "2e36594c-6c18-4afc-8eeb-cc68136875e1",
   "metadata": {},
   "outputs": [
    {
     "data": {
      "text/plain": [
       "int"
      ]
     },
     "execution_count": 11,
     "metadata": {},
     "output_type": "execute_result"
    }
   ],
   "source": [
    "i=5\n",
    "type(i)\n"
   ]
  },
  {
   "cell_type": "code",
   "execution_count": 12,
   "id": "8979d9bb-81d0-40ca-a854-f597e1114e0d",
   "metadata": {},
   "outputs": [
    {
     "name": "stdout",
     "output_type": "stream",
     "text": [
      "5\n"
     ]
    }
   ],
   "source": [
    "i=5\n",
    "print(i)"
   ]
  },
  {
   "cell_type": "code",
   "execution_count": 13,
   "id": "258f9fb2-728c-497f-9a77-10f2e5a0d5f0",
   "metadata": {},
   "outputs": [
    {
     "name": "stdout",
     "output_type": "stream",
     "text": [
      "happy5\n"
     ]
    }
   ],
   "source": [
    "s='happy5'\n",
    "print(s)"
   ]
  },
  {
   "cell_type": "code",
   "execution_count": 14,
   "id": "33378828-0a83-44a7-a6ab-8bd660b19bc6",
   "metadata": {},
   "outputs": [
    {
     "ename": "TypeError",
     "evalue": "type() takes 1 or 3 arguments",
     "output_type": "error",
     "traceback": [
      "\u001b[1;31m---------------------------------------------------------------------------\u001b[0m",
      "\u001b[1;31mTypeError\u001b[0m                                 Traceback (most recent call last)",
      "Cell \u001b[1;32mIn[14], line 1\u001b[0m\n\u001b[1;32m----> 1\u001b[0m \u001b[38;5;28mtype\u001b[39m(i, s)\n",
      "\u001b[1;31mTypeError\u001b[0m: type() takes 1 or 3 arguments"
     ]
    }
   ],
   "source": [
    "type(i, s)\n"
   ]
  },
  {
   "cell_type": "code",
   "execution_count": 15,
   "id": "de94989e-a1d7-4e88-87ae-118b3cc6ef5e",
   "metadata": {},
   "outputs": [
    {
     "data": {
      "text/plain": [
       "float"
      ]
     },
     "execution_count": 15,
     "metadata": {},
     "output_type": "execute_result"
    }
   ],
   "source": [
    "f=5.5\n",
    "type(5.5)"
   ]
  },
  {
   "cell_type": "code",
   "execution_count": 16,
   "id": "de5fe2dc-3618-4754-9c13-7615d2741fc2",
   "metadata": {},
   "outputs": [
    {
     "ename": "TypeError",
     "evalue": "type.__new__() argument 1 must be str, not int",
     "output_type": "error",
     "traceback": [
      "\u001b[1;31m---------------------------------------------------------------------------\u001b[0m",
      "\u001b[1;31mTypeError\u001b[0m                                 Traceback (most recent call last)",
      "Cell \u001b[1;32mIn[16], line 1\u001b[0m\n\u001b[1;32m----> 1\u001b[0m \u001b[38;5;28mtype\u001b[39m(i, s, f)\n",
      "\u001b[1;31mTypeError\u001b[0m: type.__new__() argument 1 must be str, not int"
     ]
    }
   ],
   "source": [
    "type(i, s, f)"
   ]
  },
  {
   "cell_type": "code",
   "execution_count": null,
   "id": "30a71f95-1962-4d4c-92f3-5f943164e333",
   "metadata": {},
   "outputs": [],
   "source": [
    "#Complex j means square root of -1"
   ]
  },
  {
   "cell_type": "code",
   "execution_count": 17,
   "id": "4a9a38b6-34f1-4bed-8bb8-6a6f0f3778c8",
   "metadata": {},
   "outputs": [
    {
     "name": "stdout",
     "output_type": "stream",
     "text": [
      "(30+50j)\n"
     ]
    }
   ],
   "source": [
    "a= 10+20j\n",
    "b= 20+30J\n",
    "print(a+b)"
   ]
  },
  {
   "cell_type": "code",
   "execution_count": 18,
   "id": "abfa59de-b132-4504-9a5b-acd6763eadb6",
   "metadata": {},
   "outputs": [
    {
     "name": "stdout",
     "output_type": "stream",
     "text": [
      "(-400+700j)\n"
     ]
    }
   ],
   "source": [
    "print(a*b)"
   ]
  },
  {
   "cell_type": "code",
   "execution_count": null,
   "id": "c69e8d21-0108-42aa-8466-5a277107c9c3",
   "metadata": {},
   "outputs": [],
   "source": []
  }
 ],
 "metadata": {
  "kernelspec": {
   "display_name": "Python 3 (ipykernel)",
   "language": "python",
   "name": "python3"
  },
  "language_info": {
   "codemirror_mode": {
    "name": "ipython",
    "version": 3
   },
   "file_extension": ".py",
   "mimetype": "text/x-python",
   "name": "python",
   "nbconvert_exporter": "python",
   "pygments_lexer": "ipython3",
   "version": "3.13.5"
  }
 },
 "nbformat": 4,
 "nbformat_minor": 5
}
